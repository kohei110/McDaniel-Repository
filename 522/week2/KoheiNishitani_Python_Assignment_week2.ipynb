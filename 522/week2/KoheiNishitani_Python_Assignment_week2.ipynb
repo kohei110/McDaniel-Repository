{
 "cells": [
  {
   "cell_type": "markdown",
   "id": "edb3dba0-f08a-4a39-b917-4cf4551d73a0",
   "metadata": {},
   "source": [
    "## ANA-522 \n",
    "## Week 2 Assignment\n",
    "## Due: Sunday at midnight\n",
    "\n",
    "#### Submit your work as a *.ipynb* notebook file on blackboard.\n",
    "#### Please name your *.ipynb* file using the following format: Firstname_week2_assignment.ipynb\n",
    "\n",
    "<font color=red>All code need to be executed</font>"
   ]
  },
  {
   "cell_type": "markdown",
   "id": "3795cf6a",
   "metadata": {},
   "source": [
    "<br>"
   ]
  },
  {
   "cell_type": "markdown",
   "id": "777b19cc",
   "metadata": {},
   "source": [
    "## Q1. Tuple Exercise"
   ]
  },
  {
   "cell_type": "markdown",
   "id": "da65db37",
   "metadata": {},
   "source": [
    "A tuple is one of the four inbuilt data types used to store collections in Python. Unlike other data types, the elements in tuples are ordered and immutable.\n",
    "\n"
   ]
  },
  {
   "cell_type": "markdown",
   "id": "ef2c8298",
   "metadata": {},
   "source": [
    "In this exercise, you'll explore the basic operations and functionalities associated with tuples. You are expected to:\n",
    "\n",
    "+ Initialize a variable with a tuple of numeric values.\n",
    "+ Understand the immutable nature of tuples by trying various operations.\n",
    "+ Access, slice, and iterate through the elements in the tuple.\n",
    "+ Determine the length and other characteristics of the tuple."
   ]
  },
  {
   "cell_type": "code",
   "execution_count": 290,
   "id": "afb63b5a",
   "metadata": {},
   "outputs": [],
   "source": [
    "# Given a tuple:\n",
    "tuple1 = (10, 20, 30, 40, 50, 60, 70, 80, 90, 100)"
   ]
  },
  {
   "cell_type": "code",
   "execution_count": 291,
   "id": "3c978e21",
   "metadata": {},
   "outputs": [
    {
     "name": "stdout",
     "output_type": "stream",
     "text": [
      "(100, 90, 80, 70, 60, 50, 40, 30, 20, 10)\n"
     ]
    }
   ],
   "source": [
    "# a. Reverse the tuple\n",
    "tuple_a = tuple1[::-1]\n",
    "print(tuple_a)\n"
   ]
  },
  {
   "cell_type": "code",
   "execution_count": 292,
   "id": "38b97537",
   "metadata": {},
   "outputs": [
    {
     "data": {
      "text/plain": [
       "100"
      ]
     },
     "execution_count": 292,
     "metadata": {},
     "output_type": "execute_result"
    }
   ],
   "source": [
    "# b. Display the second last element of the tuple.\n",
    "tuple1[-1]"
   ]
  },
  {
   "cell_type": "code",
   "execution_count": 293,
   "id": "f234c811",
   "metadata": {},
   "outputs": [
    {
     "name": "stdout",
     "output_type": "stream",
     "text": [
      "10\n",
      "20\n",
      "30\n",
      "40\n",
      "50\n",
      "60\n",
      "70\n",
      "80\n",
      "90\n",
      "100\n"
     ]
    }
   ],
   "source": [
    "# c. Iterate through each element in the tuple.\n",
    "for i in tuple1:\n",
    "    print(i)\n"
   ]
  },
  {
   "cell_type": "code",
   "execution_count": 294,
   "id": "8d5be44c",
   "metadata": {},
   "outputs": [
    {
     "name": "stdout",
     "output_type": "stream",
     "text": [
      "10\n"
     ]
    }
   ],
   "source": [
    "# d. Determine and print the length of the tuple.\n",
    "print(len(tuple1))\n",
    "\n"
   ]
  },
  {
   "cell_type": "code",
   "execution_count": 295,
   "id": "9760c6fd",
   "metadata": {},
   "outputs": [
    {
     "name": "stdout",
     "output_type": "stream",
     "text": [
      "(20, 30, 40, 50, 60)\n"
     ]
    }
   ],
   "source": [
    "# e. Display elements from index 1 to index 5.\n",
    "print(tuple1[1:6])\n",
    "\n"
   ]
  },
  {
   "cell_type": "code",
   "execution_count": 296,
   "id": "53995299",
   "metadata": {},
   "outputs": [
    {
     "name": "stdout",
     "output_type": "stream",
     "text": [
      "10\n",
      "30\n",
      "50\n",
      "70\n",
      "90\n"
     ]
    }
   ],
   "source": [
    "# f. Display elements from the start to the end of the tuple using a step size of 2.\n",
    "counter = 0\n",
    "for i in tuple1:\n",
    "    if counter % 2 == 0:\n",
    "        print(i)\n",
    "    counter += 1\n"
   ]
  },
  {
   "cell_type": "markdown",
   "id": "ec4b0458",
   "metadata": {},
   "source": [
    "<br>"
   ]
  },
  {
   "cell_type": "markdown",
   "id": "8478ac78",
   "metadata": {},
   "source": [
    "## Q2. Set Exercise"
   ]
  },
  {
   "cell_type": "markdown",
   "id": "18d31fec",
   "metadata": {},
   "source": [
    "#### Set Exercise - Part 1:\n",
    "\n",
    "Given two sets of fruits \n",
    "Perform the following tasks:\n",
    "\n",
    "- a. Find the intersection of `set1` and `set2` (i.e., fruits that appear in both sets).\n",
    "- b. Find the union of `set1` and `set2` (i.e., all unique fruits from both sets).\n",
    "- c. Find the difference between `set1` and `set2` (i.e., fruits that are in `set1` but not in `set2`).\n",
    "- d. Determine if `set1` is a subset of `set2`."
   ]
  },
  {
   "cell_type": "code",
   "execution_count": 297,
   "id": "adeb1777",
   "metadata": {},
   "outputs": [],
   "source": [
    "set1 = {\"Apple\", \"Banana\", \"Cherry\", \"Date\", \"Fig\"}\n",
    "set2 = {\"Cherry\", \"Date\", \"Grape\", \"Kiwi\", \"Mango\"}"
   ]
  },
  {
   "cell_type": "code",
   "execution_count": 298,
   "id": "7fdc9621",
   "metadata": {},
   "outputs": [
    {
     "data": {
      "text/plain": [
       "{'Cherry', 'Date'}"
      ]
     },
     "execution_count": 298,
     "metadata": {},
     "output_type": "execute_result"
    }
   ],
   "source": [
    "#a. Intersection\n",
    "set1.intersection(set2)\n"
   ]
  },
  {
   "cell_type": "code",
   "execution_count": 299,
   "id": "f7d69920",
   "metadata": {},
   "outputs": [
    {
     "data": {
      "text/plain": [
       "{'Apple', 'Banana', 'Cherry', 'Date', 'Fig', 'Grape', 'Kiwi', 'Mango'}"
      ]
     },
     "execution_count": 299,
     "metadata": {},
     "output_type": "execute_result"
    }
   ],
   "source": [
    "#b. Union\n",
    "set1.union(set2)"
   ]
  },
  {
   "cell_type": "code",
   "execution_count": 300,
   "id": "9e2e95a5",
   "metadata": {},
   "outputs": [
    {
     "data": {
      "text/plain": [
       "{'Apple', 'Banana', 'Fig'}"
      ]
     },
     "execution_count": 300,
     "metadata": {},
     "output_type": "execute_result"
    }
   ],
   "source": [
    "#c. Difference\n",
    "set1.difference(set2)"
   ]
  },
  {
   "cell_type": "code",
   "execution_count": 301,
   "id": "27c65aa6",
   "metadata": {},
   "outputs": [
    {
     "data": {
      "text/plain": [
       "False"
      ]
     },
     "execution_count": 301,
     "metadata": {},
     "output_type": "execute_result"
    }
   ],
   "source": [
    "#d. Subset check\n",
    "set1.issubset(set2)"
   ]
  },
  {
   "cell_type": "markdown",
   "id": "9854d269",
   "metadata": {},
   "source": [
    "#### Set Exercise - Part 2: Identify the fruits that occur more than once in the following list:"
   ]
  },
  {
   "cell_type": "code",
   "execution_count": 302,
   "id": "82c3d3ae",
   "metadata": {},
   "outputs": [],
   "source": [
    "A = \"Apple, Banana, Cherry, Apple, Apple, Grape, Cherry, Pear, Mango, Kiwi, Kiwi\""
   ]
  },
  {
   "cell_type": "code",
   "execution_count": 303,
   "id": "50abad9b",
   "metadata": {},
   "outputs": [
    {
     "name": "stdout",
     "output_type": "stream",
     "text": [
      "Apple\n",
      "Cherry\n",
      "Kiwi\n"
     ]
    }
   ],
   "source": [
    "fruit_list = A.split(\", \")\n",
    "#count the number of times each fruit appears in the list\n",
    "fruit_dict = {}\n",
    "for fruit in fruit_list:\n",
    "    if fruit in fruit_dict:\n",
    "        fruit_dict[fruit] += 1\n",
    "    else:\n",
    "        fruit_dict[fruit] = 1\n",
    "\n",
    "for k,v in fruit_dict.items():\n",
    "    if v > 1:\n",
    "        print(k)\n",
    "    else:\n",
    "        None"
   ]
  },
  {
   "cell_type": "markdown",
   "id": "e7a51d7b",
   "metadata": {},
   "source": [
    "<br>"
   ]
  },
  {
   "cell_type": "markdown",
   "id": "4e4e1880-798e-4d47-afc9-6d6bc1c6c342",
   "metadata": {},
   "source": [
    "## Q3. List Exercise\n",
    "Lists help programmers manage larger amounts of data by allowing several (or even\n",
    "many) values to be stored in one variable. This makes it practical to solve larger\n",
    "problems that involve many data values. You are expected to:   \n",
    "\n",
    "+ Create a variable that holds a list of values\n",
    "+ Modify a list by appending, inserting, updating and deleting elements\n",
    "+ Search a list for a value\n",
    "+ Display some or all of the values in a list"
   ]
  },
  {
   "cell_type": "code",
   "execution_count": 304,
   "id": "b8b2a5a6",
   "metadata": {},
   "outputs": [],
   "source": [
    "# a. Create a list named fruits \n",
    "# containing the following values: \"Apple\", \"Banana\", \"Cherry\", \"Date\", \"Fig\".\n",
    "fruits = [\"Apple\", \"Banana\", \"Cherry\", \"Date\", \"Fig\"]"
   ]
  },
  {
   "cell_type": "code",
   "execution_count": 305,
   "id": "d70a5850",
   "metadata": {},
   "outputs": [
    {
     "name": "stdout",
     "output_type": "stream",
     "text": [
      "['Apple', 'Banana', 'Cherry', 'Date', 'Fig', 'Grape']\n"
     ]
    }
   ],
   "source": [
    "# b. Append \"Grape\" to the fruits list.\n",
    "fruits.append(\"Grape\")\n",
    "print(fruits)"
   ]
  },
  {
   "cell_type": "code",
   "execution_count": 306,
   "id": "40fab29b",
   "metadata": {},
   "outputs": [
    {
     "name": "stdout",
     "output_type": "stream",
     "text": [
      "['Apple', 'Apricot', 'Banana', 'Cherry', 'Date', 'Fig', 'Grape']\n"
     ]
    }
   ],
   "source": [
    "# c. Insert \"Apricot\" between \"Apple\" and \"Banana\" in the fruits list.\n",
    "fruits.insert(1, \"Apricot\")\n",
    "print(fruits)"
   ]
  },
  {
   "cell_type": "code",
   "execution_count": 307,
   "id": "673d39d0",
   "metadata": {},
   "outputs": [
    {
     "name": "stdout",
     "output_type": "stream",
     "text": [
      "['Apple', 'Apricot', 'Banana', 'Cherry', 'Dragonfruit', 'Fig', 'Grape']\n"
     ]
    }
   ],
   "source": [
    "# d. Update the value \"Date\" to \"Dragonfruit\" in the fruits list.\n",
    "fruits[fruits.index(\"Date\")] = \"Dragonfruit\"\n",
    "print(fruits)"
   ]
  },
  {
   "cell_type": "code",
   "execution_count": 308,
   "id": "6ec5a91e",
   "metadata": {},
   "outputs": [
    {
     "name": "stdout",
     "output_type": "stream",
     "text": [
      "['Apple', 'Apricot', 'Banana', 'Dragonfruit', 'Fig', 'Grape']\n"
     ]
    }
   ],
   "source": [
    "# e. Remove \"Cherry\" from the fruits list.\n",
    "\n",
    "# fruits.pop(fruits.index(\"Cherry\"))\n",
    "# print(fruits)\n",
    "\n",
    "fruits.remove(\"Cherry\")\n",
    "print(fruits)"
   ]
  },
  {
   "cell_type": "code",
   "execution_count": 309,
   "id": "cbc173c9",
   "metadata": {},
   "outputs": [
    {
     "name": "stdout",
     "output_type": "stream",
     "text": [
      "2\n"
     ]
    }
   ],
   "source": [
    "# f. Search for \"Banana\" in the fruits list and print its index.\n",
    "print(fruits.index(\"Banana\"))"
   ]
  },
  {
   "cell_type": "code",
   "execution_count": 310,
   "id": "aa67f5dc",
   "metadata": {},
   "outputs": [
    {
     "data": {
      "text/plain": [
       "'Banana'"
      ]
     },
     "execution_count": 310,
     "metadata": {},
     "output_type": "execute_result"
    }
   ],
   "source": [
    "# g. Display the third element of the fruits list.\n",
    "\n",
    "fruits[2]"
   ]
  },
  {
   "cell_type": "code",
   "execution_count": 311,
   "id": "a1e86856",
   "metadata": {},
   "outputs": [
    {
     "name": "stdout",
     "output_type": "stream",
     "text": [
      "['Banana', 'Dragonfruit', 'Fig', 'Grape']\n"
     ]
    }
   ],
   "source": [
    "# h. Display elements from index 2 to index 5 of the fruits list.\n",
    "print(fruits[2:6])\n",
    "\n"
   ]
  },
  {
   "cell_type": "code",
   "execution_count": 312,
   "id": "aad2a221",
   "metadata": {},
   "outputs": [
    {
     "name": "stdout",
     "output_type": "stream",
     "text": [
      "Apple\n",
      "Banana\n",
      "Fig\n"
     ]
    }
   ],
   "source": [
    "# i. Display all elements of the fruits list using a step size of 2 (i.e., every other fruit).\n",
    "\n",
    "for idx,val in enumerate(fruits):\n",
    "    if idx % 2 == 0:\n",
    "        print(val)\n",
    "    else:\n",
    "        None"
   ]
  },
  {
   "cell_type": "code",
   "execution_count": 313,
   "id": "c21f491e",
   "metadata": {},
   "outputs": [
    {
     "name": "stdout",
     "output_type": "stream",
     "text": [
      "['Apple', 'Apricot', 'Banana', 'Dragonfruit', 'Fig', 'Grape']\n"
     ]
    }
   ],
   "source": [
    "# j. Sort the fruits list in ascending alphabetical order\n",
    "fruits.sort()\n",
    "print(fruits)\n"
   ]
  },
  {
   "cell_type": "markdown",
   "id": "46f2e396",
   "metadata": {},
   "source": [
    "<br>"
   ]
  },
  {
   "cell_type": "markdown",
   "id": "32e47f4a-476e-4f1d-b214-937926de7bef",
   "metadata": {},
   "source": [
    "## Q4. Dictionary Exercise\n",
    "\n",
    "Dictionary is another data structure that can be used in Python programs to manage large amount of data. While many problems can be solved with lists or conditional statements, in some occasions solutions are well suited using dictionaries. You are expected to: \n",
    "\n",
    "+ Create a new variable that holds a dictionary\n",
    "+ Add a key-value pair to a dictionary\n",
    "+ Update the value associated with a key in a dictionary\n",
    "+ Iterate over all of the keys and/or values in a dictionary"
   ]
  },
  {
   "cell_type": "markdown",
   "id": "d6654852",
   "metadata": {},
   "source": [
    "a. Create a dictionary named students with the following key-value pairs:\n",
    "\n",
    "- \"Alice\": 83\n",
    "- \"Bob\": 95\n",
    "- \"Charlie\": 78"
   ]
  },
  {
   "cell_type": "code",
   "execution_count": 314,
   "id": "8715efac",
   "metadata": {},
   "outputs": [],
   "source": [
    "# a. Create a dictionary\n",
    "students = {\n",
    "    \"Alice\": 83,\n",
    "    \"Bob\": 95,\n",
    "    \"Charlie\": 78\n",
    "}\n"
   ]
  },
  {
   "cell_type": "code",
   "execution_count": 315,
   "id": "11b7e505",
   "metadata": {},
   "outputs": [
    {
     "name": "stdout",
     "output_type": "stream",
     "text": [
      "{'Alice': 83, 'Bob': 95, 'Charlie': 78, 'David': 91}\n"
     ]
    }
   ],
   "source": [
    "# b. Add another student \"David\" with a score of 91 to the students dictionary.\n",
    "students[\"David\"] = 91\n",
    "\n",
    "print(students)"
   ]
  },
  {
   "cell_type": "code",
   "execution_count": 316,
   "id": "477281e5",
   "metadata": {},
   "outputs": [
    {
     "name": "stdout",
     "output_type": "stream",
     "text": [
      "{'Alice': 83, 'Bob': 93, 'Charlie': 78, 'David': 91}\n"
     ]
    }
   ],
   "source": [
    "# c. Update Bob's score to 93 in the students dictionary.\n",
    "students[\"Bob\"] = 93\n",
    "print(students)"
   ]
  },
  {
   "cell_type": "code",
   "execution_count": 317,
   "id": "db6dffad",
   "metadata": {},
   "outputs": [
    {
     "name": "stdout",
     "output_type": "stream",
     "text": [
      "Alice   83\n",
      "Bob   93\n",
      "Charlie   78\n",
      "David   91\n"
     ]
    }
   ],
   "source": [
    "# d. Using a loop, \n",
    "# iterate over the students dictionary and print each student's name and their score.\n",
    "for k,v in students.items():\n",
    "    print(k, \" \",v)\n"
   ]
  },
  {
   "cell_type": "code",
   "execution_count": 318,
   "id": "5c8c162d",
   "metadata": {},
   "outputs": [
    {
     "name": "stdout",
     "output_type": "stream",
     "text": [
      "Bob\n",
      "David\n"
     ]
    }
   ],
   "source": [
    "# e. Using a loop, print only the names of students who scored more than 85.\n",
    "for k,v in students.items():\n",
    "    if v >= 85:\n",
    "        print(k)"
   ]
  },
  {
   "cell_type": "markdown",
   "id": "ed7c7cdd",
   "metadata": {},
   "source": [
    "<br>"
   ]
  },
  {
   "cell_type": "markdown",
   "id": "8fcfba39",
   "metadata": {},
   "source": [
    "## Q5. Function Exercise\n",
    "\n",
    "Part 1: Function Exercise\n",
    "\n",
    "Functions are a cornerstone in programming, allowing for code reuse, modular design, and clearer code. In this exercise, you will:\n",
    "\n",
    "- Define functions and call them to perform tasks.\n",
    "- Use conditionals within functions to make decisions.\n",
    "- Test the functionality of your functions with various inputs."
   ]
  },
  {
   "cell_type": "code",
   "execution_count": 319,
   "id": "1674ea80",
   "metadata": {},
   "outputs": [
    {
     "data": {
      "text/plain": [
       "17"
      ]
     },
     "execution_count": 319,
     "metadata": {},
     "output_type": "execute_result"
    }
   ],
   "source": [
    "# a. Define a function named add that takes two parameters and returns their sum.\n",
    "# After defining the function, test it with two numbers of your choice.\n",
    "def add(first_val:int, second_val:int)-> int:\n",
    "    output = first_val + second_val\n",
    "    return output\n",
    "\n",
    "\n",
    "first_v = 7\n",
    "second_v = 10\n",
    "add(first_v, second_v)"
   ]
  },
  {
   "cell_type": "code",
   "execution_count": 320,
   "id": "3a3bc18a",
   "metadata": {},
   "outputs": [
    {
     "data": {
      "text/plain": [
       "5"
      ]
     },
     "execution_count": 320,
     "metadata": {},
     "output_type": "execute_result"
    }
   ],
   "source": [
    "# b. Define a function named subtract \n",
    "# that takes two parameters and returns the result of subtracting the second from the first.\n",
    "# After defining the function, test it with two numbers of your choice.\n",
    "def subtract(val1_:int, val2_:int) -> int:\n",
    "    output_ = val1_ - val2_\n",
    "    return output_\n",
    "\n",
    "val1 = 10\n",
    "val2 = 5\n",
    "\n",
    "subtract(val1,val2)"
   ]
  },
  {
   "cell_type": "code",
   "execution_count": 321,
   "id": "733b86e2",
   "metadata": {},
   "outputs": [
    {
     "data": {
      "text/plain": [
       "'Both numbers are equal.'"
      ]
     },
     "execution_count": 321,
     "metadata": {},
     "output_type": "execute_result"
    }
   ],
   "source": [
    "# c. Define a function named larger_number that takes two parameters. \n",
    "# This function should return the larger of the two numbers. \n",
    "# If the numbers are equal, it should return the string \"Both numbers are equal.\"\n",
    "def larger_number(val1_:int, val2_:int)->int:\n",
    "    if val1_ > val2_:\n",
    "        return val1_\n",
    "    elif val1_ < val2_:\n",
    "        return val2_\n",
    "    else:\n",
    "        return \"Both numbers are equal.\"\n",
    "\n",
    "val1 = 10\n",
    "val2 = 10\n",
    "\n",
    "larger_number(val1, val2)"
   ]
  },
  {
   "cell_type": "code",
   "execution_count": 322,
   "id": "c05db9dd",
   "metadata": {},
   "outputs": [
    {
     "data": {
      "text/plain": [
       "314"
      ]
     },
     "execution_count": 322,
     "metadata": {},
     "output_type": "execute_result"
    }
   ],
   "source": [
    "# d. Call the larger_number function with various pairs of numbers. Print the results.\n",
    "val3 = 2\n",
    "val4 = 246\n",
    "val5 = 314\n",
    "larger_number(val3, val4)\n",
    "larger_number(val3, val5)\n",
    "larger_number(val5, val4)"
   ]
  },
  {
   "cell_type": "code",
   "execution_count": 323,
   "id": "e2438a45",
   "metadata": {},
   "outputs": [],
   "source": [
    "# e. Define a function named is_even that checks if a number is even. \n",
    "# If the number is even, it should return True, otherwise, it should return False.\n",
    "def is_even(val1_:int, val2_:int) -> bool:\n",
    "    if val1_ == val2_:\n",
    "        return True\n",
    "    return False"
   ]
  },
  {
   "cell_type": "code",
   "execution_count": 324,
   "id": "4690f18f",
   "metadata": {},
   "outputs": [
    {
     "data": {
      "text/plain": [
       "True"
      ]
     },
     "execution_count": 324,
     "metadata": {},
     "output_type": "execute_result"
    }
   ],
   "source": [
    "# f. Test the is_even function with different numbers and print the results.\n",
    "val1 = 1\n",
    "val2 = 1\n",
    "\n",
    "is_even(val1, val2)"
   ]
  },
  {
   "cell_type": "markdown",
   "id": "b75a2dcd",
   "metadata": {},
   "source": [
    "##### Part 2: Lambda Exercise\n",
    "\n",
    "Lambda functions provide a way to create small, anonymous functions for quick tasks. They are particularly useful when a short function is needed temporarily, without needing a full function declaration."
   ]
  },
  {
   "cell_type": "code",
   "execution_count": 325,
   "id": "a866dfe8",
   "metadata": {},
   "outputs": [
    {
     "data": {
      "text/plain": [
       "16"
      ]
     },
     "execution_count": 325,
     "metadata": {},
     "output_type": "execute_result"
    }
   ],
   "source": [
    "# a. Define a lambda function named multiply \n",
    "# that takes two parameters and returns their product.\n",
    "\n",
    "multiply = lambda x, y: x * y\n",
    "multiply(8,2)"
   ]
  },
  {
   "cell_type": "code",
   "execution_count": 326,
   "id": "73d9f7c1",
   "metadata": {},
   "outputs": [
    {
     "data": {
      "text/plain": [
       "2.0"
      ]
     },
     "execution_count": 326,
     "metadata": {},
     "output_type": "execute_result"
    }
   ],
   "source": [
    "# b. Define another lambda function named divide \n",
    "# that takes two parameters and returns the result of dividing the first by the second.\n",
    "divide = lambda x,y: x / y\n",
    "divide(10,5)"
   ]
  },
  {
   "cell_type": "code",
   "execution_count": 327,
   "id": "7d12ada3",
   "metadata": {},
   "outputs": [
    {
     "data": {
      "text/plain": [
       "[5, 4, 3, 2, 1]"
      ]
     },
     "execution_count": 327,
     "metadata": {},
     "output_type": "execute_result"
    }
   ],
   "source": [
    "# c. Create a list of numbers: nums = [1, 2, 3, 4, 5]. \n",
    "# Use a lambda function with the sorted() function and a lambda to sort the nums list in descending order.\n",
    "\n",
    "nums = [1,2,3,4,5]\n",
    "sorted(nums, key = lambda x: -x)\n",
    "\n"
   ]
  },
  {
   "cell_type": "markdown",
   "id": "d7e2c4aa",
   "metadata": {},
   "source": [
    "<br>"
   ]
  },
  {
   "cell_type": "markdown",
   "id": "2cd96ecd",
   "metadata": {},
   "source": [
    "## <font color=RED>The questions below are optional. If you wish to engage in additional practice, you are welcome to attempt them. However, not completing these optional questions will not result in any loss of points for this assignment. </font>"
   ]
  },
  {
   "cell_type": "markdown",
   "id": "d76c76fe-7f7b-4a0f-bcc2-c3361fa71e9f",
   "metadata": {},
   "source": [
    "## Optional Exercise 1: Below and Above Average\n",
    "\n",
    "Write a program that read a number N from the user. Let the program generate N random values. Afterwards, your program should display the average of all of the random values generated. Then the program should display all of the above average values, followed by all of the average values (if any), followed by all of the below average values. An output of a running example:  \n",
    "<pre>\n",
    "Please input the total number of random values:25\n",
    "\n",
    "There are 13 numbers above the average of 51.24 :\n",
    "[62, 62, 63, 94, 95, 70, 65, 74, 83, 93, 97, 56, 56]\n",
    "\n",
    "There are 0 numbers equal to the average of 51.24 :\n",
    "[]\n",
    "\n",
    "There are 12 numbers below the average of 51.24 :\n",
    "[40, 1, 16, 12, 39, 32, 17, 50, 0, 5, 49, 50]\n",
    "</pre>\n",
    "\n",
    "> To generate random numbers use module random, then invoke one of the methods in the following :  \n",
    "  import random  \n",
    "  random.random()  &nbsp;  &nbsp; &nbsp;&nbsp;&nbsp;&nbsp; &nbsp;        # Random float:  0.0 <= x < 1.0  \n",
    "  random.randrange(10)    &nbsp;&nbsp; # Integer from 0 to 9 inclusive   \n",
    "  random.randint(1,10)    &nbsp;&nbsp;&nbsp;&nbsp; # Integer from 1 to 10 inclusive  \n",
    "  See methods available in Python random module at https://www.w3schools.com/python/module_random.asp"
   ]
  },
  {
   "cell_type": "code",
   "execution_count": 328,
   "id": "ec380baf",
   "metadata": {},
   "outputs": [
    {
     "name": "stdout",
     "output_type": "stream",
     "text": [
      "51.8\n",
      "[87, 64, 68, 94, 74, 72]\n"
     ]
    }
   ],
   "source": [
    "def below_above_avg(n:int):\n",
    "    import random\n",
    "    random_list = [random.randint(1,100) for _ in range(n)]\n",
    "    avg_val_ = sum(random_list)/len(random_list)\n",
    "    print(avg_val_)\n",
    "    abv_list = [num for num in random_list if num > avg_val_]\n",
    "    print(abv_list)\n",
    "\n",
    "below_above_avg(10)"
   ]
  },
  {
   "cell_type": "markdown",
   "id": "856f70a2-b4b6-4a81-9f95-f25589870b2c",
   "metadata": {},
   "source": [
    "## Optional Exercise 2: Random Lottery Numbers\n",
    "\n",
    "In order to win the top prize in a particular lottery, one must match all 6 numbers\n",
    "on his or her ticket to the 6 numbers between 1 and 49 that are drawn by the lottery\n",
    "organizer. Write a program that generates a random selection of 6 numbers for a lottery ticket. Ensure that the 6 numbers selected do not contain any duplicates.\n",
    "Display the numbers in ascending order.\n",
    "\n",
    "> To generate random numbers use module random, then invoke one of the methods in the following :  \n",
    "  import random  \n",
    "  random.random()  &nbsp;  &nbsp; &nbsp;&nbsp;&nbsp;&nbsp; &nbsp;        # Random float:  0.0 <= x < 1.0  \n",
    "  random.randrange(10)    &nbsp;&nbsp; # Integer from 0 to 9 inclusive   \n",
    "  random.randint(1,10)    &nbsp;&nbsp;&nbsp;&nbsp; # Integer from 1 to 10 inclusive  \n",
    "  See methods available in Python random module at https://www.w3schools.com/python/module_random.asp\n",
    "  "
   ]
  },
  {
   "cell_type": "code",
   "execution_count": 329,
   "id": "6a51ac0f",
   "metadata": {},
   "outputs": [
    {
     "name": "stdout",
     "output_type": "stream",
     "text": [
      "[37, 41, 16, 9, 22, 19]\n"
     ]
    }
   ],
   "source": [
    "def random_lottery():\n",
    "    import random\n",
    "    ticket = random.sample(range(1,50),6)\n",
    "    print(ticket)\n",
    "\n",
    "random_lottery()"
   ]
  },
  {
   "cell_type": "markdown",
   "id": "1635ddb1",
   "metadata": {},
   "source": [
    "<br>"
   ]
  },
  {
   "cell_type": "markdown",
   "id": "209b7347-6b5f-438d-b5fc-394dc5cdee34",
   "metadata": {},
   "source": [
    "### Function with List Exercise"
   ]
  },
  {
   "cell_type": "markdown",
   "id": "a95c3435-3fa7-43f7-9a12-a86da778abc9",
   "metadata": {},
   "source": [
    "\n",
    "\n",
    "## Optional Exercise 3 : Remove Outliers\n",
    "\n",
    "When analysing data collected as part of a science experiment it may be desirable to remove the most extreme values before performing other calculations.  \n",
    "\n",
    "Write a function that takes a list of values and a non-negative integer, N, as its parameters. The function should create a new copy of the list with both the n largest elements and the n smallest elements removed. Then it should return the new copy of the list as the sole function’s result as return. The order of the elements in the returned list does not have to match the order of the elements in the original list.\n",
    "\n",
    "To demonstrate the function you created in the program, call the function with a list of randomly generated numbers, that the function would remove the two largest and two smallest values from it, and return an updated new copy. Display the new copy of the list with the outliers removed, followed by the original list. Your program should generate an appropriate error message if the user enters less than 4 values in the case of N is 2. See the examples:  \n",
    "<pre>\n",
    "(Scenario 01)\n",
    "Please input the total number of random values:10\n",
    "New list: [37, 39, 39, 51, 52, 55]\n",
    "Old list: [39, 52, 98, 55, 51, 39, 37, 12, 36, 56]\n",
    "\n",
    "(Scenario 02)\n",
    "Please input the total number of random values:3\n",
    "Old list: [94, 26, 53]\n",
    "You do not have enought values (must be more than 3.\n",
    "\n",
    "(Scenario 03)\n",
    "Please input the total number of random values:4\n",
    "New list: []\n",
    "Old list: [80, 13, 74, 87]\n",
    "</pre>"
   ]
  },
  {
   "cell_type": "code",
   "execution_count": 330,
   "id": "d68f29e0",
   "metadata": {},
   "outputs": [
    {
     "name": "stdout",
     "output_type": "stream",
     "text": [
      "New List  [37, 39, 39, 51, 52, 55]\n",
      "Old List  [12, 36, 37, 39, 39, 51, 52, 55, 56, 98]\n"
     ]
    }
   ],
   "source": [
    "def outliner_trimmer(N:list)->list:\n",
    "    if len(N) <= 3:\n",
    "        print(\"You do not have enought values (must be more than 3.\")\n",
    "    else:\n",
    "        N.sort()\n",
    "        newN = N.copy()\n",
    "        newN = newN[2:-2]\n",
    "        print(\"New List \", newN)\n",
    "        print(\"Old List \", N)\n",
    "\n",
    "N = [39, 52, 98, 55, 51, 39, 37, 12, 36, 56]\n",
    "outliner_trimmer(N)"
   ]
  },
  {
   "cell_type": "code",
   "execution_count": null,
   "id": "8cfa2c6f",
   "metadata": {},
   "outputs": [],
   "source": []
  },
  {
   "cell_type": "code",
   "execution_count": null,
   "id": "7303dc8c",
   "metadata": {},
   "outputs": [],
   "source": []
  },
  {
   "cell_type": "markdown",
   "id": "c2f6890f-190d-4db0-8ec5-ca8939d7781b",
   "metadata": {},
   "source": [
    "## Optional Exercise 4: Is a List already in Sorted Order?\n",
    "\n",
    "Write a function that determines whether or not a list of values is in sorted order\n",
    "(either ascending or descending). The function should return True if the list is\n",
    "already sorted. Otherwise it should return False. Write a main program that reads\n",
    "a list of numbers from the user and then uses your function to report whether or not\n",
    "the list is sorted.\n",
    "\n",
    ">One solution idea to check whether a list of values are in a correct order is to check all pairs of neighboring values on the list to see if all pairs are in correct order. As soon as there is one pair on the list has the incorrect order, then it's time to conclude that the whole list is not in correct order. Otherwise, all numbers on the list are in their correct order. Also make sure you consider these questions when completing this exercise: Is an empty list in sorted order? What about a list contains only one element?   \n",
    "\n",
    "Some examples:   \n",
    "<pre>\n",
    "(Scenario I)\n",
    "Input the next number:1\n",
    "Input the next number:2\n",
    "Input the next number:3\n",
    "Input the next number:4\n",
    "Input the next number:5\n",
    "[1, 2, 3, 4, 5]\n",
    "This list is sorted.\n",
    "\n",
    "(Scenario II)\n",
    "Input the next number:1\n",
    "Input the next number:2\n",
    "Input the next number:3\n",
    "Input the next number:5\n",
    "Input the next number:4\n",
    "[1, 2, 3, 5, 4]\n",
    "This list is NOT sorted.\n",
    "\n",
    "(Scenario III)\n",
    "Input the next number:5\n",
    "Input the next number:4\n",
    "Input the next number:3\n",
    "Input the next number:2\n",
    "Input the next number:1\n",
    "[5, 4, 3, 2, 1]\n",
    "This list is sorted.\n",
    "\n",
    "(Scenario IV)\n",
    "[]\n",
    "This list is sorted.\n",
    "\n",
    "(Scenario V)\n",
    "Input the next number:9\n",
    "[9]\n",
    "This list is sorted.\n",
    "</pre>"
   ]
  },
  {
   "cell_type": "code",
   "execution_count": 331,
   "id": "4e0e8928",
   "metadata": {},
   "outputs": [
    {
     "name": "stdout",
     "output_type": "stream",
     "text": [
      "This list is sorted\n",
      "This list is sorted\n",
      "This list is not sorted\n"
     ]
    },
    {
     "data": {
      "text/plain": [
       "False"
      ]
     },
     "execution_count": 331,
     "metadata": {},
     "output_type": "execute_result"
    }
   ],
   "source": [
    "def sort_checker(inputList:list)->bool:\n",
    "    ascendingList = sorted(inputList,reverse=False)\n",
    "    decendingList = sorted(inputList,reverse=True)\n",
    "\n",
    "    if inputList == ascendingList or inputList == decendingList:\n",
    "        print(\"This list is sorted\")\n",
    "        return True\n",
    "    else:\n",
    "        print(\"This list is not sorted\")\n",
    "        return False\n",
    "\n",
    "\n",
    "list1 = [1,2,3,4,5]\n",
    "list2 = [3,2,1]\n",
    "list3=[1,5,2,7,11]\n",
    "\n",
    "sort_checker(list1)\n",
    "sort_checker(list2)\n",
    "sort_checker(list3)\n"
   ]
  },
  {
   "cell_type": "markdown",
   "id": "0cf32421-bc32-4a4e-8379-2304ffcc747b",
   "metadata": {},
   "source": [
    "## Optional Exercise 5: Reverse Lookup\n",
    "\n",
    "Write a function named reverseLookup that finds all of the keys in a dictionary\n",
    "that map to a specific value. The function will take the dictionary and the value to\n",
    "search for as its only parameters. It will return a (possibly empty) list of keys from\n",
    "the dictionary that map to the provided value.   \n",
    "\n",
    "Include additional statements that demonstrates the reverseLookup function as part\n",
    "of your solution to this exercise.    \n",
    "\n",
    "Your program can create a dictionary or use the dictionary included and then\n",
    "show that the reverseLookup function works correctly when it returns multiple\n",
    "keys, a single key, and no keys.   \n",
    "\n",
    "<pre>data = { 'A': 3,\n",
    "         'B': 7,\n",
    "         'C': 8,\n",
    "         'D': 8,\n",
    "         'E': 7,\n",
    "         'F': 3,\n",
    "         'G': 2,\n",
    "         'H': 3,\n",
    "         'I': 8,\n",
    "         'J': 3  \n",
    "}\n",
    "</pre>\n",
    "The output from the given dictionary:   \n",
    "<pre>\n",
    "Keys for value 2 ['G']\n",
    "Keys for value 3 ['A', 'F', 'H', 'J']\n",
    "Keys for value 5 []\n",
    "Keys for value 7 ['B', 'E']\n",
    "Keys for value 8 ['C', 'D', 'I']\n",
    "</pre>"
   ]
  },
  {
   "cell_type": "code",
   "execution_count": 332,
   "id": "03e4e724-ed5e-4bd0-a582-d6572a0c5493",
   "metadata": {},
   "outputs": [
    {
     "name": "stdout",
     "output_type": "stream",
     "text": [
      "Keys for value  7   ['B', 'E']\n"
     ]
    }
   ],
   "source": [
    "# Reverse Loopkup\n",
    "def reverse_lookup(target:dict,input:int)->str:\n",
    "    outputlist_ = []\n",
    "    for k,v in target.items():\n",
    "        if v == input:\n",
    "            outputlist_.append(k)\n",
    "        \n",
    "    print(\"Keys for value \", str(input), \" \", outputlist_)\n",
    "\n",
    "\n",
    "data = { 'A': 3,\n",
    "         'B': 7,\n",
    "         'C': 8,\n",
    "         'D': 8,\n",
    "         'E': 7,\n",
    "         'F': 3,\n",
    "         'G': 2,\n",
    "         'H': 3,\n",
    "         'I': 8,\n",
    "         'J': 3  \n",
    "}\n",
    "\n",
    "reverse_lookup(data,7)\n"
   ]
  },
  {
   "cell_type": "markdown",
   "id": "e0a762d0-7212-4ea7-8edf-7d658f78e175",
   "metadata": {},
   "source": [
    "\n",
    "\n",
    "## Optional Exercise 6 : Two Dice Simulation\n",
    "\n",
    "In this exercise you will simulate 1,000 rolls of two dice. Begin by writing a func-\n",
    "tion that simulates rolling a pair of six-sided dice. Your function will not take any\n",
    "parameters. It will return the total that was rolled on two dice as its only result.\n",
    "Write the main program that uses your function to simulate rolling two six-sided\n",
    "dice 1,000 times.   \n",
    "\n",
    "As your program runs, it should count the number of times that each\n",
    "total occurs. Then it should display a table that summarizes this data. Express the\n",
    "frequency for each total as a percentage of the total number of rolls. Your program\n",
    "should also display the percentage expected by probability theory for each total.\n",
    "Sample output is shown below.  \n",
    "\n",
    "<img src=\"http://mathqs.mcdaniel.edu/ANA522/mod01/img/DiceSimulation.png\" width=\"300\" alt=\"If the image does not show use: http://mathqs.mcdaniel.edu/ANA522/mod01/img/DiceSimulation.png\">"
   ]
  },
  {
   "cell_type": "code",
   "execution_count": 333,
   "id": "2a9d23dd",
   "metadata": {},
   "outputs": [
    {
     "name": "stdout",
     "output_type": "stream",
     "text": [
      "2     3.60            2.78           \n",
      "3     5.30            5.56           \n",
      "4     8.20            8.33           \n",
      "5     10.00           11.11          \n",
      "6     13.70           13.89          \n",
      "7     18.00           16.67          \n",
      "8     13.00           13.89          \n",
      "9     12.20           11.11          \n",
      "10    7.30            8.33           \n",
      "11    6.10            5.56           \n",
      "12    2.70            2.78           \n"
     ]
    }
   ],
   "source": [
    "def dice_outcomes():\n",
    "    import random\n",
    "    dice_outcome_ = [random.randint(1,6) + random.randint(1,6) for _ in range(1001)]\n",
    "    return dice_outcome_\n",
    "\n",
    "output_dict = {}\n",
    "dice_outcome = dice_outcomes()\n",
    "for outcome in dice_outcome:\n",
    "    if outcome in output_dict:\n",
    "        output_dict[outcome] += 1\n",
    "    else:\n",
    "        output_dict[outcome] = 1\n",
    "\n",
    "perc_tbl = {k: (v/1000) for k,v in output_dict.items()}\n",
    "\n",
    "theoretical_probabilities = {\n",
    "        2: 2.78, 3: 5.56, 4: 8.33, 5: 11.11,\n",
    "        6: 13.89, 7: 16.67, 8: 13.89, 9: 11.11,\n",
    "        10: 8.33, 11: 5.56, 12: 2.78\n",
    "    }\n",
    "\n",
    "for total in range(2, 13):\n",
    "    freq = perc_tbl.get(total, 0) * 100\n",
    "    theoretical = theoretical_probabilities[total]\n",
    "    print(f\"{total:<5} {freq:<15.2f} {theoretical:<15.2f}\")"
   ]
  },
  {
   "cell_type": "markdown",
   "id": "6ff70556-4008-49d1-b2da-daff522749bf",
   "metadata": {},
   "source": [
    "## Optional Exercise 7 : Write Out Numbers in English\n",
    "\n",
    "While the popularity of cheques as a payment method has diminished in recent years,\n",
    "some companies still issue them to pay employees or vendors. The amount being\n",
    "paid normally appears on a cheque twice, with one occurrence written using digits,\n",
    "and the other occurrence written using English words. Repeating the amount in two\n",
    "different forms makes it much more difficult for an unscrupulous employee or vendor\n",
    "to modify the amount on the cheque before depositing it.   \n",
    "\n",
    "In this exercise, your task is to create a function that takes an integer between 0 and\n",
    "999 as its only parameter, and returns a string containing the English words for that\n",
    "number. For example, if the parameter to the function is 142 then your function should\n",
    "return “one hundred forty two”. Use one or more dictionaries to implement\n",
    "your solution rather than large if/elif/else constructs. Include a main program that\n",
    "reads an integer from the user and displays its value in English words. See example outputs:  \n",
    "\n",
    "<pre>\n",
    "123 :  One Hundred Twenty Three\n",
    "812 :  Eight Hundreds Twelve\n",
    "802 :  Eight Hundreds and Two\n",
    " 14 :   Fourteen\n",
    " 67 :   Sixty Seven\n",
    "  9 :   Nine\n",
    "</pre>\n"
   ]
  },
  {
   "cell_type": "code",
   "execution_count": 334,
   "id": "2377d157",
   "metadata": {},
   "outputs": [
    {
     "data": {
      "text/plain": [
       "'Nine Hundred Eighty Seven'"
      ]
     },
     "execution_count": 334,
     "metadata": {},
     "output_type": "execute_result"
    }
   ],
   "source": [
    "#give up\n",
    "\n",
    "def number_to_words(num):\n",
    "    # Dictionaries for number mappings\n",
    "    ones = {\n",
    "        1: \"One\", 2: \"Two\", 3: \"Three\", 4: \"Four\", 5: \"Five\",\n",
    "        6: \"Six\", 7: \"Seven\", 8: \"Eight\", 9: \"Nine\"\n",
    "    }\n",
    "    teens = {\n",
    "        10: \"Ten\", 11: \"Eleven\", 12: \"Twelve\", 13: \"Thirteen\", 14: \"Fourteen\",\n",
    "        15: \"Fifteen\", 16: \"Sixteen\", 17: \"Seventeen\", 18: \"Eighteen\", 19: \"Nineteen\"\n",
    "    }\n",
    "    tens = {\n",
    "        2: \"Twenty\", 3: \"Thirty\", 4: \"Forty\", 5: \"Fifty\",\n",
    "        6: \"Sixty\", 7: \"Seventy\", 8: \"Eighty\", 9: \"Ninety\"\n",
    "    }\n",
    "    \n",
    "    # Handle edge case for zero\n",
    "    if num == 0:\n",
    "        return \"Zero\"\n",
    "\n",
    "    words = []\n",
    "    \n",
    "    # Handle hundreds place\n",
    "    if num >= 100:\n",
    "        hundreds_digit = num // 100\n",
    "        words.append(ones[hundreds_digit] + \" Hundred\")\n",
    "        num %= 100  # Remove hundreds place\n",
    "\n",
    "    # Handle tens and teens\n",
    "    if 10 <= num <= 19:  # Special case for teens\n",
    "        words.append(teens[num])\n",
    "    else:\n",
    "        # Handle tens place\n",
    "        tens_digit = num // 10\n",
    "        if tens_digit > 1:\n",
    "            words.append(tens[tens_digit])\n",
    "        num %= 10  # Remove tens place\n",
    "\n",
    "        # Handle ones place\n",
    "        if num > 0:\n",
    "            words.append(ones[num])\n",
    "    \n",
    "    # Join the words list into a single string\n",
    "    return \" \".join(words)\n",
    "\n",
    "number_to_words(987)"
   ]
  },
  {
   "cell_type": "markdown",
   "id": "4d587844",
   "metadata": {},
   "source": [
    "## Optional Exercise 8: The Sieve of Eratosthenes\n",
    "\n",
    "The Sieve of Eratosthenes is a technique that was developed more than 2,000 years ago to easily find all of the prime numbers between 2 and some limit, say 100. A description of the algorithm follows:  \n",
    "  \n",
    "&nbsp;&nbsp;&nbsp;&nbsp;&nbsp; Write down all of the numbers from 0 to the limit  \n",
    "&nbsp;&nbsp;&nbsp;&nbsp;&nbsp; Cross out 0 and 1 because they are not prime  \n",
    "   \n",
    "&nbsp;&nbsp;&nbsp;&nbsp;&nbsp;&nbsp;&nbsp;&nbsp;&nbsp;&nbsp;  Set p equal to 2  \n",
    "&nbsp;&nbsp;&nbsp;&nbsp;&nbsp;&nbsp;&nbsp;&nbsp;&nbsp;&nbsp;  While p is less than the limit do  \n",
    "&nbsp;&nbsp;&nbsp;&nbsp;&nbsp;&nbsp;&nbsp;&nbsp;&nbsp;&nbsp;&nbsp;&nbsp;&nbsp;&nbsp;&nbsp;&nbsp;&nbsp;  Cross out all multiples of p (but not p itself)  \n",
    "&nbsp;&nbsp;&nbsp;&nbsp;&nbsp;&nbsp;&nbsp;&nbsp;&nbsp;&nbsp;&nbsp;&nbsp;&nbsp;&nbsp;&nbsp;&nbsp;&nbsp;  Set p equal to the next number in the list that is not crossed out   \n",
    "   \n",
    "Report all of the numbers that have not been crossed out as prime   \n",
    "   \n",
    "The key to this algorithm is that it is relatively easy to cross out every nth number on a piece of paper. This is also an easy task for a computer—a for loop can simulate this behavior when a third parameter is provided to the range function. When a number is crossed out, we knowthat it is no longer prime, but it still occupies space on the piece of paper, and must still be considered when computing later prime numbers.  \n",
    "\n",
    "As a result, you should not simulate crossing out a number by removing it from the\n",
    "list. Instead, you should simulate crossing out a number by replacing it with 0. Then,\n",
    "once the algorithm completes, all of the non-zero values in the list are prime.   \n",
    "    \n",
    "Read the Python program in the following that uses this algorithm to display all of the prime\n",
    "numbers between 2 and a limit,say 1000."
   ]
  },
  {
   "cell_type": "code",
   "execution_count": 335,
   "id": "34dbb872",
   "metadata": {},
   "outputs": [
    {
     "name": "stdout",
     "output_type": "stream",
     "text": [
      "[2, 3, 5, 7, 11, 13, 17, 19, 23, 29, 31, 37, 41, 43, 47, 53, 59, 61, 67, 71, 73, 79, 83, 89, 97, 101]\n"
     ]
    }
   ],
   "source": [
    "#give up\n",
    "\n",
    "def sieve_of_eratosthenes(start: int, end: int) -> list:\n",
    "    # Initialize a list of True values (True means prime candidate)\n",
    "    num_list = [True] * (end + 1)\n",
    "    \n",
    "    # 0 and 1 are not prime numbers\n",
    "    num_list[0] = num_list[1] = False\n",
    "\n",
    "    # Start with the first prime number, p = 2\n",
    "    p = 2\n",
    "    while p * p <= end:\n",
    "        if num_list[p]:  # Only proceed if p has not been marked as non-prime\n",
    "            # Cross out all multiples of p (but not p itself)\n",
    "            for multiple in range(p * p, end + 1, p):\n",
    "                num_list[multiple] = False\n",
    "        p += 1\n",
    "\n",
    "    # Collect all numbers marked as prime within the specified range\n",
    "    primes = [num for num in range(start, end + 1) if num_list[num]]\n",
    "    return primes\n",
    "\n",
    "# Example usage to find all primes from 0 up to 100\n",
    "primes_up_to_x = sieve_of_eratosthenes(0, 101)\n",
    "print(primes_up_to_x)\n"
   ]
  },
  {
   "cell_type": "markdown",
   "id": "c6ab5beb",
   "metadata": {},
   "source": [
    "## (a) Use list comprehension to remove zeros on the list, so that the list becomes :\n",
    "[2, 3, 5, 7, 11, 13, 17, 19, 23, 29, 31, 37, 41, 43, 47, 53, 59, 61, 67, 71, 73, 79, 83, 89, 97, 101, 103, 107, 109, 113, 127, 131, 137, 139, 149, 151, 157, 163, 167, 173, 179, 181, 191, 193, 197, 199, 211, 223, 227, 229, 233, 239, 241, 251, 257, 263, 269, 271, 277, 281, 283, 293, 307, 311, 313, 317, 331, 337, 347, 349, 353, 359, 367, 373, 379, 383, 389, 397, 401, 409, 419, 421, 431, 433, 439, 443, 449, 457, 461, 463, 467, 479, 487, 491, 499, 503, 509, 521, 523, 541, 547, 557, 563, 569, 571, 577, 587, 593, 599, 601, 607, 613, 617, 619, 631, 641, 643, 647, 653, 659, 661, 673, 677, 683, 691, 701, 709, 719, 727, 733, 739, 743, 751, 757, 761, 769, 773, 787, 797, 809, 811, 821, 823, 827, 829, 839, 853, 857, 859, 863, 877, 881, 883, 887, 907, 911, 919, 929, 937, 941, 947, 953, 967, 971, 977, 983, 991, 997]"
   ]
  },
  {
   "cell_type": "code",
   "execution_count": 336,
   "id": "70f771b4",
   "metadata": {},
   "outputs": [
    {
     "data": {
      "text/plain": [
       "[11]"
      ]
     },
     "execution_count": 336,
     "metadata": {},
     "output_type": "execute_result"
    }
   ],
   "source": [
    "new_num_list = [int(str(element).replace(\"0\", \"\")) for element in primes_up_to_x if \"0\" in str(element)]\n",
    "\n",
    "new_num_list"
   ]
  },
  {
   "cell_type": "markdown",
   "id": "0573a58d",
   "metadata": {},
   "source": [
    "primes_up_to_100"
   ]
  },
  {
   "cell_type": "markdown",
   "id": "7254ce0a",
   "metadata": {},
   "source": [
    "## (b) Create a function that would return how many prime numbers are there in the range of [a,b]. The program should ask user for the values of a and b, the printout the answers.\n",
    "For example:\n",
    "<pre>\n",
    "Please give value a: \n",
    "30\n",
    "Please give value b: \n",
    "50\n",
    "There are 5 prime numbers in between 30 and 50. \n",
    "\n",
    "Please give value a: \n",
    "130\n",
    "Please give value b: \n",
    "150\n",
    "There are 4 prime numbers in between 130 and 150. "
   ]
  },
  {
   "cell_type": "code",
   "execution_count": 337,
   "id": "d380b3ff",
   "metadata": {},
   "outputs": [
    {
     "name": "stdout",
     "output_type": "stream",
     "text": [
      "Please give value a:\n",
      "100\n",
      "Please give value b:\n",
      "150\n",
      "There are 10 prime numbers in between 100 and 150\n"
     ]
    }
   ],
   "source": [
    "print(\"Please give value a:\")\n",
    "a_ = int(input())\n",
    "print(a_)\n",
    "print(\"Please give value b:\")\n",
    "b_ = int(input())\n",
    "print(b_)\n",
    "output_ = sieve_of_eratosthenes(a_, b_)\n",
    "num_prime = len(output_)\n",
    "print(f\"There are {num_prime} prime numbers in between {a_} and {b_}\")\n",
    "\n"
   ]
  },
  {
   "cell_type": "code",
   "execution_count": null,
   "id": "8b72bb74",
   "metadata": {},
   "outputs": [],
   "source": []
  }
 ],
 "metadata": {
  "kernelspec": {
   "display_name": "McDaniel",
   "language": "python",
   "name": "python3"
  },
  "language_info": {
   "codemirror_mode": {
    "name": "ipython",
    "version": 3
   },
   "file_extension": ".py",
   "mimetype": "text/x-python",
   "name": "python",
   "nbconvert_exporter": "python",
   "pygments_lexer": "ipython3",
   "version": "3.13.0"
  }
 },
 "nbformat": 4,
 "nbformat_minor": 5
}
