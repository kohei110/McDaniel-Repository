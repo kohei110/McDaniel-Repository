{
 "cells": [
  {
   "cell_type": "code",
   "execution_count": 2,
   "metadata": {},
   "outputs": [
    {
     "name": "stdout",
     "output_type": "stream",
     "text": [
      "20\n",
      "12\n",
      "64\n",
      "4.0\n",
      "0\n",
      "1\n",
      "2\n",
      "3\n"
     ]
    }
   ],
   "source": [
    "a = 16\n",
    "b = 4\n",
    "print(a + b) # 20\n",
    "print(a - b) # 12\n",
    "print(a * b) # 64\n",
    "print(a / b) # 4.0\n",
    "print(a % b) # 0 modulo: the remainder after integer division\n",
    "\n",
    "\n",
    "for i in range(1, int(a / b)):\n",
    "    print(i)"
   ]
  },
  {
   "cell_type": "code",
   "execution_count": 4,
   "metadata": {},
   "outputs": [
    {
     "name": "stdout",
     "output_type": "stream",
     "text": [
      "ANA 522 is my class\n",
      "In ANA 522, I learn Python\n",
      "Python is very interesting and valuable\n",
      "Here are some examples of what I am learning\n",
      "hello classmates\n",
      "HelloInstructor\n",
      "Hello Instructor\n",
      "20\n"
     ]
    }
   ],
   "source": [
    "print(\"ANA 522 is my class\")\n",
    "print('In ANA 522, I learn Python')\n",
    "print(\"Python is very interesting and valuable\")\n",
    "print('Here are some examples of what I am learning')\n",
    "print(\"hello\" + \" classmates\")\n",
    "greeting = \"Hello\"\n",
    "name = \"Instructor\"\n",
    "print(greeting + ' ' + name)\n",
    "age = 20\n",
    "print(age)"
   ]
  },
  {
   "cell_type": "code",
   "execution_count": 11,
   "metadata": {},
   "outputs": [
    {
     "name": "stdout",
     "output_type": "stream",
     "text": [
      "Hello, World!\n",
      "77\n",
      "1207\n",
      "I am using Python 3.13.0\n"
     ]
    }
   ],
   "source": [
    "print('Hello, World!')\n",
    "print(52 + 25)\n",
    "print(17 * 71)\n",
    "v = ! python --version\n",
    "print(\"I am using\", v[0])"
   ]
  },
  {
   "cell_type": "code",
   "execution_count": 7,
   "metadata": {},
   "outputs": [],
   "source": []
  }
 ],
 "metadata": {
  "kernelspec": {
   "display_name": "McDaniel",
   "language": "python",
   "name": "python3"
  },
  "language_info": {
   "codemirror_mode": {
    "name": "ipython",
    "version": 3
   },
   "file_extension": ".py",
   "mimetype": "text/x-python",
   "name": "python",
   "nbconvert_exporter": "python",
   "pygments_lexer": "ipython3",
   "version": "3.13.0"
  }
 },
 "nbformat": 4,
 "nbformat_minor": 2
}
